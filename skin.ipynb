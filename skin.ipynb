{
 "cells": [
  {
   "cell_type": "code",
   "execution_count": 31,
   "metadata": {},
   "outputs": [
    {
     "data": {
      "text/html": [
       "<div>\n",
       "<style scoped>\n",
       "    .dataframe tbody tr th:only-of-type {\n",
       "        vertical-align: middle;\n",
       "    }\n",
       "\n",
       "    .dataframe tbody tr th {\n",
       "        vertical-align: top;\n",
       "    }\n",
       "\n",
       "    .dataframe thead th {\n",
       "        text-align: right;\n",
       "    }\n",
       "</style>\n",
       "<table border=\"1\" class=\"dataframe\">\n",
       "  <thead>\n",
       "    <tr style=\"text-align: right;\">\n",
       "      <th></th>\n",
       "      <th>Temp</th>\n",
       "      <th>Pressure</th>\n",
       "      <th>pH</th>\n",
       "      <th>Result</th>\n",
       "    </tr>\n",
       "  </thead>\n",
       "  <tbody>\n",
       "    <tr>\n",
       "      <th>0</th>\n",
       "      <td>39.4</td>\n",
       "      <td>33</td>\n",
       "      <td>5.4</td>\n",
       "      <td>Yes</td>\n",
       "    </tr>\n",
       "    <tr>\n",
       "      <th>1</th>\n",
       "      <td>38.3</td>\n",
       "      <td>45</td>\n",
       "      <td>5.8</td>\n",
       "      <td>Yes</td>\n",
       "    </tr>\n",
       "    <tr>\n",
       "      <th>2</th>\n",
       "      <td>38.4</td>\n",
       "      <td>30</td>\n",
       "      <td>5.3</td>\n",
       "      <td>Yes</td>\n",
       "    </tr>\n",
       "    <tr>\n",
       "      <th>3</th>\n",
       "      <td>39.1</td>\n",
       "      <td>40</td>\n",
       "      <td>5.5</td>\n",
       "      <td>Yes</td>\n",
       "    </tr>\n",
       "    <tr>\n",
       "      <th>4</th>\n",
       "      <td>37.3</td>\n",
       "      <td>52</td>\n",
       "      <td>5.9</td>\n",
       "      <td>Yes</td>\n",
       "    </tr>\n",
       "    <tr>\n",
       "      <th>...</th>\n",
       "      <td>...</td>\n",
       "      <td>...</td>\n",
       "      <td>...</td>\n",
       "      <td>...</td>\n",
       "    </tr>\n",
       "    <tr>\n",
       "      <th>95</th>\n",
       "      <td>36.8</td>\n",
       "      <td>32</td>\n",
       "      <td>4.5</td>\n",
       "      <td>No</td>\n",
       "    </tr>\n",
       "    <tr>\n",
       "      <th>96</th>\n",
       "      <td>35.7</td>\n",
       "      <td>32</td>\n",
       "      <td>5.0</td>\n",
       "      <td>No</td>\n",
       "    </tr>\n",
       "    <tr>\n",
       "      <th>97</th>\n",
       "      <td>39.4</td>\n",
       "      <td>33</td>\n",
       "      <td>5.4</td>\n",
       "      <td>Yes</td>\n",
       "    </tr>\n",
       "    <tr>\n",
       "      <th>98</th>\n",
       "      <td>37.0</td>\n",
       "      <td>44</td>\n",
       "      <td>6.3</td>\n",
       "      <td>Yes</td>\n",
       "    </tr>\n",
       "    <tr>\n",
       "      <th>99</th>\n",
       "      <td>35.9</td>\n",
       "      <td>54</td>\n",
       "      <td>6.9</td>\n",
       "      <td>Yes</td>\n",
       "    </tr>\n",
       "  </tbody>\n",
       "</table>\n",
       "<p>100 rows × 4 columns</p>\n",
       "</div>"
      ],
      "text/plain": [
       "    Temp  Pressure   pH Result\n",
       "0   39.4        33  5.4    Yes\n",
       "1   38.3        45  5.8    Yes\n",
       "2   38.4        30  5.3    Yes\n",
       "3   39.1        40  5.5    Yes\n",
       "4   37.3        52  5.9    Yes\n",
       "..   ...       ...  ...    ...\n",
       "95  36.8        32  4.5     No\n",
       "96  35.7        32  5.0     No\n",
       "97  39.4        33  5.4    Yes\n",
       "98  37.0        44  6.3    Yes\n",
       "99  35.9        54  6.9    Yes\n",
       "\n",
       "[100 rows x 4 columns]"
      ]
     },
     "execution_count": 31,
     "metadata": {},
     "output_type": "execute_result"
    }
   ],
   "source": [
    "import pandas as pd\n",
    "df=pd.read_csv('synthetic_data.csv')\n",
    "df"
   ]
  },
  {
   "cell_type": "code",
   "execution_count": 32,
   "metadata": {},
   "outputs": [],
   "source": [
    "X=df.iloc[:,:-1].values"
   ]
  },
  {
   "cell_type": "code",
   "execution_count": 33,
   "metadata": {},
   "outputs": [
    {
     "data": {
      "text/plain": [
       "array([[39.4, 33. ,  5.4],\n",
       "       [38.3, 45. ,  5.8],\n",
       "       [38.4, 30. ,  5.3],\n",
       "       [39.1, 40. ,  5.5],\n",
       "       [37.3, 52. ,  5.9],\n",
       "       [36. , 42. ,  5.2],\n",
       "       [36.7, 50. ,  6.1],\n",
       "       [36.4, 43. ,  7. ],\n",
       "       [40. , 53. ,  7.4],\n",
       "       [39.9, 54. ,  7. ],\n",
       "       [37.1, 40. ,  5.3],\n",
       "       [35.6, 54. ,  6.7],\n",
       "       [39. , 46. ,  7.1],\n",
       "       [39.6, 34. ,  5.5],\n",
       "       [36.5, 45. ,  5.8],\n",
       "       [37.7, 51. ,  6.4],\n",
       "       [37.4, 53. ,  6.6],\n",
       "       [36.9, 40. ,  4.9],\n",
       "       [35.5, 43. ,  5.5],\n",
       "       [38.8, 46. ,  6.9],\n",
       "       [39.3, 38. ,  5.8],\n",
       "       [39.8, 52. ,  6.1],\n",
       "       [39.2, 43. ,  6.8],\n",
       "       [36. , 32. ,  4.1],\n",
       "       [38.5, 45. ,  5.6],\n",
       "       [36.8, 40. ,  4.9],\n",
       "       [37.5, 48. ,  6.7],\n",
       "       [35.9, 51. ,  5. ],\n",
       "       [36.9, 30. ,  5. ],\n",
       "       [35.8, 37. ,  5.9],\n",
       "       [37.9, 48. ,  7.4],\n",
       "       [35.9, 35. ,  5.5],\n",
       "       [37.4, 46. ,  7.5],\n",
       "       [39.6, 51. ,  7.3],\n",
       "       [37.4, 54. ,  5.8],\n",
       "       [37.8, 35. ,  4.6],\n",
       "       [36. , 30. ,  5.4],\n",
       "       [36.2, 39. ,  5.8],\n",
       "       [36.5, 34. ,  5.1],\n",
       "       [38.3, 30. ,  5.3],\n",
       "       [38.3, 47. ,  6. ],\n",
       "       [36.7, 46. ,  6.7],\n",
       "       [36.7, 54. ,  5.8],\n",
       "       [39.1, 34. ,  5. ],\n",
       "       [35.4, 49. ,  7.5],\n",
       "       [35.1, 30. ,  4.1],\n",
       "       [37.8, 37. ,  5.7],\n",
       "       [36.2, 36. ,  5.9],\n",
       "       [35.5, 44. ,  7.4],\n",
       "       [37.6, 53. ,  6. ],\n",
       "       [36.5, 42. ,  5.3],\n",
       "       [39. , 33. ,  4.6],\n",
       "       [37.5, 49. ,  6.8],\n",
       "       [35.4, 42. ,  7.2],\n",
       "       [39.9, 43. ,  5.5],\n",
       "       [35.7, 49. ,  6.6],\n",
       "       [35.3, 36. ,  6.3],\n",
       "       [36.4, 50. ,  6.5],\n",
       "       [35. , 36. ,  6.1],\n",
       "       [39.1, 43. ,  7.2],\n",
       "       [36.3, 54. ,  5.6],\n",
       "       [37.6, 51. ,  5.7],\n",
       "       [37.4, 42. ,  5. ],\n",
       "       [39.9, 41. ,  7.2],\n",
       "       [39.4, 39. ,  4.9],\n",
       "       [39.4, 47. ,  5.3],\n",
       "       [38.2, 35. ,  5.3],\n",
       "       [36.9, 46. ,  6.3],\n",
       "       [36.6, 53. ,  6.8],\n",
       "       [35.5, 36. ,  4.7],\n",
       "       [39. , 31. ,  4.5],\n",
       "       [36.6, 35. ,  4.7],\n",
       "       [39. , 51. ,  5.8],\n",
       "       [37.9, 50. ,  5.4],\n",
       "       [39.1, 37. ,  4.9],\n",
       "       [39.9, 44. ,  7.3],\n",
       "       [39. , 30. ,  4.5],\n",
       "       [35.2, 48. ,  5.6],\n",
       "       [37. , 36. ,  6.4],\n",
       "       [35.7, 44. ,  5.2],\n",
       "       [39.9, 30. ,  4.4],\n",
       "       [36.4, 38. ,  5.1],\n",
       "       [36.2, 45. ,  6.8],\n",
       "       [35.4, 47. ,  6.6],\n",
       "       [39.9, 52. ,  6.6],\n",
       "       [35.5, 49. ,  5.7],\n",
       "       [38.8, 46. ,  7.1],\n",
       "       [40. , 33. ,  4.4],\n",
       "       [37.7, 34. ,  4.5],\n",
       "       [36.3, 42. ,  5.7],\n",
       "       [38.9, 32. ,  4.9],\n",
       "       [35. , 32. ,  4.2],\n",
       "       [38.8, 47. ,  6.2],\n",
       "       [36.6, 47. ,  6.2],\n",
       "       [39.5, 47. ,  7. ],\n",
       "       [36.8, 32. ,  4.5],\n",
       "       [35.7, 32. ,  5. ],\n",
       "       [39.4, 33. ,  5.4],\n",
       "       [37. , 44. ,  6.3],\n",
       "       [35.9, 54. ,  6.9]])"
      ]
     },
     "execution_count": 33,
     "metadata": {},
     "output_type": "execute_result"
    }
   ],
   "source": [
    "X"
   ]
  },
  {
   "cell_type": "code",
   "execution_count": 34,
   "metadata": {},
   "outputs": [
    {
     "data": {
      "text/plain": [
       "0     Yes\n",
       "1     Yes\n",
       "2     Yes\n",
       "3     Yes\n",
       "4     Yes\n",
       "     ... \n",
       "95     No\n",
       "96     No\n",
       "97    Yes\n",
       "98    Yes\n",
       "99    Yes\n",
       "Name: Result, Length: 100, dtype: object"
      ]
     },
     "execution_count": 34,
     "metadata": {},
     "output_type": "execute_result"
    }
   ],
   "source": [
    "y=df.iloc[:,-1]\n",
    "y"
   ]
  },
  {
   "cell_type": "code",
   "execution_count": 35,
   "metadata": {},
   "outputs": [],
   "source": [
    "from sklearn.model_selection import train_test_split\n",
    "X_train,X_test,y_train,y_test=train_test_split(X,y,test_size=0.2)"
   ]
  },
  {
   "cell_type": "code",
   "execution_count": 36,
   "metadata": {},
   "outputs": [],
   "source": [
    "from sklearn.linear_model import LogisticRegression\n",
    "model=LogisticRegression()"
   ]
  },
  {
   "cell_type": "code",
   "execution_count": 37,
   "metadata": {},
   "outputs": [],
   "source": [
    "model.fit(X_train,y_train)\n",
    "y_pred=model.predict(X_test)\n"
   ]
  },
  {
   "cell_type": "code",
   "execution_count": 38,
   "metadata": {},
   "outputs": [
    {
     "data": {
      "text/plain": [
       "array(['Yes'], dtype=object)"
      ]
     },
     "execution_count": 38,
     "metadata": {},
     "output_type": "execute_result"
    }
   ],
   "source": [
    "model.predict([[39,33,6]])"
   ]
  },
  {
   "cell_type": "code",
   "execution_count": 39,
   "metadata": {},
   "outputs": [
    {
     "data": {
      "text/plain": [
       "0.95"
      ]
     },
     "execution_count": 39,
     "metadata": {},
     "output_type": "execute_result"
    }
   ],
   "source": [
    "from sklearn.metrics import accuracy_score\n",
    "ai=accuracy_score(y_pred,y_test)\n",
    "ai\n"
   ]
  },
  {
   "cell_type": "code",
   "execution_count": 40,
   "metadata": {},
   "outputs": [],
   "source": [
    "import pickle\n",
    "with open('ai.pkl','wb')as f:\n",
    "      pickle.dump(model,f)\n"
   ]
  },
  {
   "cell_type": "code",
   "execution_count": null,
   "metadata": {},
   "outputs": [],
   "source": []
  }
 ],
 "metadata": {
  "kernelspec": {
   "display_name": "Python 3",
   "language": "python",
   "name": "python3"
  },
  "language_info": {
   "codemirror_mode": {
    "name": "ipython",
    "version": 3
   },
   "file_extension": ".py",
   "mimetype": "text/x-python",
   "name": "python",
   "nbconvert_exporter": "python",
   "pygments_lexer": "ipython3",
   "version": "3.13.1"
  }
 },
 "nbformat": 4,
 "nbformat_minor": 2
}
